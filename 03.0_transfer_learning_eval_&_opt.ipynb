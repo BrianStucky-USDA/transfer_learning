{
 "cells": [
  {
   "cell_type": "markdown",
   "id": "82eac71b",
   "metadata": {},
   "source": [
    "# Transfer Learning Evaluation and Optimization\n",
    "\n",
    "In this notebook, we will evaluate the models trained in the previous module and explore various evaluation metrics to better understand their performance. Additionally, we will critique the suitability of different models for a feature extraction task."
   ]
  },
  {
   "cell_type": "markdown",
   "id": "e8a706e7",
   "metadata": {},
   "source": [
    "### 1. Import Required Libraries\n",
    "\n",
    "We will start by importing the necessary libraries for evaluation and visualization."
   ]
  },
  {
   "cell_type": "code",
   "execution_count": 1,
   "id": "ad2db827",
   "metadata": {},
   "outputs": [
    {
     "name": "stderr",
     "output_type": "stream",
     "text": [
      "C:\\Users\\sushi\\AppData\\Local\\Packages\\PythonSoftwareFoundation.Python.3.12_qbz5n2kfra8p0\\LocalCache\\local-packages\\Python312\\site-packages\\torch\\utils\\_pytree.py:185: FutureWarning: optree is installed but the version is too old to support PyTorch Dynamo in C++ pytree. C++ pytree support is disabled. Please consider upgrading optree using `python3 -m pip install --upgrade 'optree>=0.13.0'`.\n",
      "  warnings.warn(\n"
     ]
    }
   ],
   "source": [
    "import os\n",
    "import torch\n",
    "import matplotlib.pyplot as plt\n",
    "from sklearn.metrics import classification_report, confusion_matrix, ConfusionMatrixDisplay"
   ]
  },
  {
   "cell_type": "markdown",
   "id": "a0cfa39b",
   "metadata": {},
   "source": [
    "### 2. Load Pre-trained Models\n",
    "\n",
    "We will load the three pre-trained models provided for this module. These include two models that are a poor match for the transfer task and one that is more suitable."
   ]
  },
  {
   "cell_type": "code",
   "execution_count": null,
   "id": "c394da48",
   "metadata": {},
   "outputs": [],
   "source": [
    "# Paths to the models\n",
    "model_paths = {\n",
    "    'model_1': 'models/model_1.pt',\n",
    "    'model_2': 'models/model_2.pt',\n",
    "    'model_3': 'models/model_3.pt'\n",
    "}"
   ]
  },
  {
   "cell_type": "markdown",
   "id": "b40bf82c",
   "metadata": {},
   "source": [
    "### 3. Evaluate Models\n",
    "\n",
    "We will evaluate each model using metrics such as accuracy, precision, recall, and F1-score. Additionally, confusion matrices will be generated to visualize the performance."
   ]
  },
  {
   "cell_type": "code",
   "execution_count": null,
   "id": "ff181277",
   "metadata": {},
   "outputs": [],
   "source": [
    "def evaluate_model(model, dataloader, device):\n",
    "    model.eval()\n",
    "    predictions, true_labels = [], []\n",
    "    with torch.no_grad():\n",
    "        for inputs, labels in dataloader:\n",
    "            inputs, labels = inputs.to(device), labels.to(device)\n",
    "            outputs = model(inputs)\n",
    "            _, preds = torch.max(outputs, 1)\n",
    "            predictions.extend(preds.cpu().numpy())\n",
    "            true_labels.extend(labels.cpu().numpy())\n",
    "    return predictions, true_labels"
   ]
  },
  {
   "cell_type": "markdown",
   "id": "064ffa7c",
   "metadata": {},
   "source": [
    "### 4. Critique Model Suitability\n",
    "\n",
    "Based on the evaluation results, we will critique the suitability of each model for the feature extraction task."
   ]
  },
  {
   "cell_type": "markdown",
   "id": "edfa28aa",
   "metadata": {},
   "source": [
    "### 5. Conclusion\n",
    "\n",
    "Summarize the findings and discuss potential improvements for the models that performed poorly."
   ]
  }
 ],
 "metadata": {
  "kernelspec": {
   "display_name": "Python 3",
   "language": "python",
   "name": "python3"
  },
  "language_info": {
   "codemirror_mode": {
    "name": "ipython",
    "version": 3
   },
   "file_extension": ".py",
   "mimetype": "text/x-python",
   "name": "python",
   "nbconvert_exporter": "python",
   "pygments_lexer": "ipython3",
   "version": "3.12.9"
  }
 },
 "nbformat": 4,
 "nbformat_minor": 5
}
